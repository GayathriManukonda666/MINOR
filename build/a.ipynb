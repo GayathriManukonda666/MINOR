{
 "cells": [
  {
   "cell_type": "code",
   "execution_count": 1,
   "metadata": {},
   "outputs": [
    {
     "name": "stdout",
     "output_type": "stream",
     "text": [
      "Loading known faces...\n",
      "31\n"
     ]
    }
   ],
   "source": [
    "import face_recognition\n",
    "import os\n",
    "import PIL.Image\n",
    "import numpy as np\n",
    "import pickle\n",
    "import json\n",
    "#constants declaration\n",
    "ROOT_DIR = './'\n",
    "GROUP_DIR=\"N20\"\n",
    "MODEL = 'hog'  # 'hog' or 'cnn'\n",
    "MODEL_LOCATION=\"models\"\n",
    "\n",
    "\n",
    "print('Loading known faces...')\n",
    "known_faces = {}\n",
    "\n",
    "for name in os.listdir(os.path.join(ROOT_DIR,GROUP_DIR)):\n",
    "    l=[]\n",
    "    for filename in os.listdir(os.path.join(ROOT_DIR,GROUP_DIR,name)):\n",
    "        image = face_recognition.load_image_file(os.path.join(ROOT_DIR,GROUP_DIR,name, filename))\n",
    "        encoding = face_recognition.face_encodings(image)\n",
    "        if(len(encoding)!=0):\n",
    "            l.append(encoding[0].tolist())\n",
    "    known_faces[name]=l\n",
    "model_data = {\n",
    "    \"MODEL\": MODEL,\n",
    "    \"known_faces\": known_faces\n",
    "    \n",
    "}\n",
    "with open(os.path.join(ROOT_DIR,MODEL_LOCATION,GROUP_DIR)+\".json\", \"w\") as f:\n",
    "    json.dump(model_data, f)\n",
    "    print(len(known_faces))\n",
    "# model_json = {\n",
    "#     \"descriptorSize\": 128,\n",
    "#     \"descriptors\": [list(face) for face in known_faces],\n",
    "#     \"labels\": known_names,\n",
    "# }\n",
    "# with open(\"face_recognition_model.json\", \"w\") as f:\n",
    "#     json.dump(model_json, f)"
   ]
  },
  {
   "cell_type": "code",
   "execution_count": 12,
   "metadata": {},
   "outputs": [
    {
     "name": "stdout",
     "output_type": "stream",
     "text": [
      "N200037=models.CharField(max_length=255)\n",
      "N200377=models.CharField(max_length=255)\n",
      "N200381=models.CharField(max_length=255)\n",
      "N200392=models.CharField(max_length=255)\n",
      "N200491=models.CharField(max_length=255)\n",
      "N200517=models.CharField(max_length=255)\n",
      "N200539=models.CharField(max_length=255)\n",
      "N200542=models.CharField(max_length=255)\n",
      "N200572=models.CharField(max_length=255)\n",
      "N200575=models.CharField(max_length=255)\n",
      "N200594=models.CharField(max_length=255)\n",
      "N200680=models.CharField(max_length=255)\n",
      "N200689=models.CharField(max_length=255)\n",
      "N200695=models.CharField(max_length=255)\n",
      "N200745=models.CharField(max_length=255)\n",
      "N200770=models.CharField(max_length=255)\n",
      "N200814=models.CharField(max_length=255)\n",
      "N200829=models.CharField(max_length=255)\n",
      "N200841=models.CharField(max_length=255)\n",
      "N200883=models.CharField(max_length=255)\n",
      "N200910=models.CharField(max_length=255)\n",
      "N200947=models.CharField(max_length=255)\n",
      "N200948=models.CharField(max_length=255)\n",
      "N200957=models.CharField(max_length=255)\n",
      "N201006=models.CharField(max_length=255)\n",
      "N201014=models.CharField(max_length=255)\n",
      "N201045=models.CharField(max_length=255)\n",
      "N201050=models.CharField(max_length=255)\n",
      "N201056=models.CharField(max_length=255)\n",
      "N201064=models.CharField(max_length=255)\n",
      "N201070=models.CharField(max_length=255)\n"
     ]
    }
   ],
   "source": [
    "l=['N200037', 'N200377', 'N200381', 'N200392', 'N200491', 'N200517', 'N200539', 'N200542', 'N200572', 'N200575', 'N200594', 'N200680', 'N200689', 'N200695', 'N200745', 'N200770', 'N200814', 'N200829', 'N200841', 'N200883', 'N200910', 'N200947', 'N200948', 'N200957', 'N201006', 'N201014', 'N201045', 'N201050', 'N201056', 'N201064', 'N201070']\n",
    "k={}\n",
    "for i in l:\n",
    "    print(i+\"=models.CharField(max_length=255)\")\n",
    "\n"
   ]
  },
  {
   "cell_type": "code",
   "execution_count": null,
   "metadata": {},
   "outputs": [],
   "source": [
    "pip install mysql-connector-python\n"
   ]
  },
  {
   "cell_type": "code",
   "execution_count": 37,
   "metadata": {},
   "outputs": [],
   "source": [
    "import mysql.connector\n",
    "con=mysql.connector.connect(\n",
    "    host=\"127.0.0.1\",\n",
    "    port=\"8111\",\n",
    "    user=\"nagendra\",\n",
    "    password=\"2338\",\n",
    "    database=\"ams\"\n",
    ")"
   ]
  },
  {
   "cell_type": "code",
   "execution_count": 40,
   "metadata": {},
   "outputs": [
    {
     "ename": "AttributeError",
     "evalue": "'NoneType' object has no attribute 'fetchall'",
     "output_type": "error",
     "traceback": [
      "\u001b[1;31m---------------------------------------------------------------------------\u001b[0m",
      "\u001b[1;31mAttributeError\u001b[0m                            Traceback (most recent call last)",
      "Cell \u001b[1;32mIn[40], line 3\u001b[0m\n\u001b[0;32m      1\u001b[0m cur\u001b[39m=\u001b[39mcon\u001b[39m.\u001b[39mcursor()\n\u001b[0;32m      2\u001b[0m table\u001b[39m=\u001b[39m\u001b[39m\"\u001b[39m\u001b[39mn18csecse1\u001b[39m\u001b[39m\"\u001b[39m\n\u001b[1;32m----> 3\u001b[0m cur\u001b[39m.\u001b[39;49mexecute(\u001b[39m\"\u001b[39;49m\u001b[39mselect * from n18csecse1 where date=\u001b[39;49m\u001b[39m'\u001b[39;49m\u001b[39m202\u001b[39;49m\u001b[39m'\u001b[39;49m\u001b[39m\"\u001b[39;49m)\u001b[39m.\u001b[39;49mfetchall()\n",
      "\u001b[1;31mAttributeError\u001b[0m: 'NoneType' object has no attribute 'fetchall'"
     ]
    }
   ],
   "source": [
    "cur=con.cursor()\n",
    "table=\"n18csecse1\"\n",
    "cur.execute(\"select * from n18csecse1 where date='202'\")\n"
   ]
  },
  {
   "cell_type": "code",
   "execution_count": 46,
   "metadata": {},
   "outputs": [
    {
     "data": {
      "text/plain": [
       "{'n18029', 'n180292', 'n181022'}"
      ]
     },
     "execution_count": 46,
     "metadata": {},
     "output_type": "execute_result"
    }
   ],
   "source": [
    "a=set()\n",
    "a.update({\"n181022\"})\n",
    "a.update({\"n18029\"})\n",
    "a.add(\"n180292\")\n",
    "a"
   ]
  },
  {
   "cell_type": "code",
   "execution_count": 5,
   "metadata": {},
   "outputs": [
    {
     "name": "stdout",
     "output_type": "stream",
     "text": [
      "\u001b[1;31mSignature:\u001b[0m \u001b[0mos\u001b[0m\u001b[1;33m.\u001b[0m\u001b[0mrmdir\u001b[0m\u001b[1;33m(\u001b[0m\u001b[0mpath\u001b[0m\u001b[1;33m,\u001b[0m \u001b[1;33m*\u001b[0m\u001b[1;33m,\u001b[0m \u001b[0mdir_fd\u001b[0m\u001b[1;33m=\u001b[0m\u001b[1;32mNone\u001b[0m\u001b[1;33m)\u001b[0m\u001b[1;33m\u001b[0m\u001b[1;33m\u001b[0m\u001b[0m\n",
      "\u001b[1;31mDocstring:\u001b[0m\n",
      "Remove a directory.\n",
      "\n",
      "If dir_fd is not None, it should be a file descriptor open to a directory,\n",
      "  and path should be relative; path will then be relative to that directory.\n",
      "dir_fd may not be implemented on your platform.\n",
      "  If it is unavailable, using it will raise a NotImplementedError.\n",
      "\u001b[1;31mType:\u001b[0m      builtin_function_or_method"
     ]
    }
   ],
   "source": [
    "import os\n",
    "os.rmdir?"
   ]
  }
 ],
 "metadata": {
  "kernelspec": {
   "display_name": "env1",
   "language": "python",
   "name": "python3"
  },
  "language_info": {
   "codemirror_mode": {
    "name": "ipython",
    "version": 3
   },
   "file_extension": ".py",
   "mimetype": "text/x-python",
   "name": "python",
   "nbconvert_exporter": "python",
   "pygments_lexer": "ipython3",
   "version": "3.11.2"
  },
  "orig_nbformat": 4
 },
 "nbformat": 4,
 "nbformat_minor": 2
}
